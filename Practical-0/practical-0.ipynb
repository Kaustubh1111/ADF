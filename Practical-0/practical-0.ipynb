{
 "cells": [
  {
   "cell_type": "markdown",
   "metadata": {},
   "source": [
    "Roll No: 21BCE528\n",
    "\n",
    "Aim:\n",
    "a.     Develop a python program and make the simple calculator which using and conditional loop.\n",
    "\n",
    "b.     Write a function areaTriangle that takes the lengths of three sides of the triangle as input parameters and returns the area of the triangle as a output. Also, assert that sum of the length of any two sides is greater than the third side. Write a main function that accepts as command line arguments and computers the area of triangle using the function areaTriangle.\n",
    "\n",
    "c.     Write a function that takes two numbers as input parameters and returns True or False depending on whether they are co-primes. Two numbers are said to be co-prime if they do not have any common divisor other than one.\n",
    "\n",
    "d.     Write a function that takes a string as a parameter and returns a string with every successive repetitive character replaced with a star(*). For Example, ‘balloon’ is returned as ‘bal*o*n’.\n",
    "\n",
    "e.     Write a function that takes a number as n input parameter and returns the correspond text in words, for example, on input 452, the function should return ‘Four Five Two’. Use a dictionary for mapping to digits to their string representation.\n",
    "\n",
    "f.      Write a recursive function that takes number n as an input parameter and print n-digit strictly increasing number.\n",
    "\n",
    "\n",
    "User Inputs related Programs\n",
    "\n",
    "a.     The bell shaped Gaussian function,\n",
    "\n",
    "f(x)=  1/(s * √(2π ))  exp⁡〖[ (-1)/2  〖((x-m)/s)〗^2]〗\n",
    "\n",
    "is one of the most widely used functions in science and technology. The parameters m and s > 0 are prescribed real numbers. Make a program for evaluating this function for different values of s, x and m. Ask user to input the values.\n",
    "\n",
    " \n",
    "\n",
    "b.     A car driver, driving at velocity v0, suddenly puts on the brake. What braking distance d is needed to stop the car? One can derive, using Newton’s second law of motion or a corresponding energy equation, that:\n",
    "\n",
    "d=  1/2   (v_0^2)/μg\n",
    "\n",
    "Make a program for computing d above equation, when the initial car velocity v0 and the friction coefficient µ are given on the command line. Run the program for two cases: v0 = 120 and v0 = 50 km/h, both with µ = 0.3 (µ is dimensionless).\n",
    "\n",
    "(Note: convert the velocity in m/s)\n",
    "\n",
    " \n",
    "\n",
    "Python Classes related\n",
    "\n",
    "a.       Define a class Bank that keeps track of bank customers. The class should contain the following data member:\n",
    "\n",
    "Data member name\n",
    "\n",
    "Details\n",
    "\n",
    "name\n",
    "\n",
    "Name of customer\n",
    "\n",
    "accountNum\n",
    "\n",
    "Account Number\n",
    "\n",
    "type\n",
    "\n",
    "Account Type\n",
    "\n",
    "amount\n",
    "\n",
    "Amount deposited in the bank account\n",
    "\n",
    "interest\n",
    "\n",
    "Interest earned by the customer\n",
    "\n",
    "The class should support the following methods:\n",
    "\n",
    "(a)   __init__ for initializing the data members.\n",
    "\n",
    "(b)  deposit for depositing money in the members.\n",
    "\n",
    "(c)   withdrawal for withdrawing money from the account\n",
    "\n",
    "(d)  findInterest that determines the interest on the basis of amount in the account\n"
   ]
  },
  {
   "cell_type": "code",
   "execution_count": 1,
   "metadata": {},
   "outputs": [
    {
     "name": "stdout",
     "output_type": "stream",
     "text": [
      "Please Enter correct Operator\n"
     ]
    }
   ],
   "source": [
    "num1 = int(input(\"Enter Number 1:\"))\n",
    "num2 = int(input(\"Enter Number 2:\"))\n",
    "op = input(\"Enter operator\")\n",
    "if op=='+':\n",
    " print(num1+num2)\n",
    "elif op=='-':\n",
    " print(num1-num2)\n",
    "elif op=='*':\n",
    " print(num1*num2)\n",
    "elif op=='/':\n",
    " print(num1/num2)\n",
    "else:\n",
    " print(\"Please Enter correct Operator\")"
   ]
  },
  {
   "cell_type": "code",
   "execution_count": 2,
   "metadata": {},
   "outputs": [
    {
     "name": "stdout",
     "output_type": "stream",
     "text": [
      "Area of Traingle:6.0\n"
     ]
    }
   ],
   "source": [
    "#Area of Traingle\n",
    "def Area(a,b,c):\n",
    " if(a+b>c and a+c>b and b+c>a):\n",
    "    s = (a+b+c)/2\n",
    "    area = round((s*(s-a)*(s-b)*(s-c))**0.5,5)\n",
    "\n",
    "    print(\"Area of Traingle:\"+ str(area))\n",
    " else:\n",
    "    print(\"Cannot from Triangle\")\n",
    "\n",
    "a = int(input(\"Enter 1st side:\"))\n",
    "b = int(input(\"Enter 2st side:\"))\n",
    "c = int(input(\"Enter 3st side:\"))\n",
    "Area(a,b,c)\n"
   ]
  },
  {
   "cell_type": "code",
   "execution_count": 3,
   "metadata": {},
   "outputs": [
    {
     "name": "stdout",
     "output_type": "stream",
     "text": [
      "[2, 5]\n",
      "[]\n",
      "Given numbers are coprime\n"
     ]
    }
   ],
   "source": [
    "#coprimes\n",
    "n1 = int(input(\"Enter 1st number:\"))\n",
    "n2 = int(input(\"Enter 2nd number:\"))\n",
    "def divisor(num):\n",
    " list=[]\n",
    " for i in range(2,int(num-1)):\n",
    "    if num%i==0:\n",
    "        list.append(i)\n",
    " return list\n",
    "l1 = divisor(n1)\n",
    "l2 = divisor(n2)\n",
    "print(l1)\n",
    "print(l2)\n",
    "same = False\n",
    "for i in l1:\n",
    "    for j in l2:\n",
    "        if i==j:\n",
    "            same = True\n",
    "if(same == False):\n",
    "    print(\"Given numbers are coprime\")\n",
    "else:\n",
    "    print(\"Given numbers are not coprime\")"
   ]
  },
  {
   "cell_type": "code",
   "execution_count": 4,
   "metadata": {},
   "outputs": [
    {
     "name": "stdout",
     "output_type": "stream",
     "text": [
      "bal*o*n\n"
     ]
    }
   ],
   "source": [
    "s = input(\"Enter String\")\n",
    "list =[]\n",
    "s1 = \"\"\n",
    "for i in s:\n",
    "    if i not in list:\n",
    "        s1+=i\n",
    "    elif i in list:\n",
    "        s1+='*'\n",
    "    list.append(i)\n",
    "print(s1)\n"
   ]
  },
  {
   "cell_type": "code",
   "execution_count": 6,
   "metadata": {},
   "outputs": [
    {
     "name": "stdout",
     "output_type": "stream",
     "text": [
      "seven one eight\n"
     ]
    }
   ],
   "source": [
    "def number_to_words(number):\n",
    "    digits = {\n",
    " '0': 'zero',\n",
    " '1': 'one',\n",
    " '2': 'two',\n",
    " '3': 'three',\n",
    " '4': 'four',\n",
    " '5': 'five',\n",
    " '6': 'six',\n",
    " '7': 'seven',\n",
    " '8': 'eight',\n",
    " '9': 'nine'\n",
    " }\n",
    "    word = ''\n",
    "    for digit in str(number):\n",
    "        if digit in digits:\n",
    "            word += digits[digit] + ' '\n",
    "    return word.strip()\n",
    "number = 718\n",
    "word = number_to_words(number)\n",
    "print(word)"
   ]
  },
  {
   "cell_type": "code",
   "execution_count": 7,
   "metadata": {},
   "outputs": [
    {
     "name": "stdout",
     "output_type": "stream",
     "text": [
      "1181.027\n"
     ]
    }
   ],
   "source": [
    "speed = int(input(\"enter speed in km/h:\"))\n",
    "speed1 = round(speed * 5/18,4)\n",
    "friction = 0.3\n",
    "g = 9.8\n",
    "distance = round((1/2)*((speed1**2)/(friction*g)),3)\n",
    "print(distance)"
   ]
  },
  {
   "cell_type": "code",
   "execution_count": 8,
   "metadata": {},
   "outputs": [
    {
     "name": "stdout",
     "output_type": "stream",
     "text": [
      "1.119\n"
     ]
    }
   ],
   "source": [
    "s = int(input(\"Enter s:\"))\n",
    "x = int(input(\"Enter x:\"))\n",
    "m = int(input(\"Enter m:\"))\n",
    "if s>0:\n",
    " f = round(((1/(s*((2*3.14)**0.5)))**((-1/2)*((x-m)/s)**2)),3)\n",
    "print(f)\n"
   ]
  },
  {
   "cell_type": "code",
   "execution_count": 9,
   "metadata": {},
   "outputs": [
    {
     "name": "stdout",
     "output_type": "stream",
     "text": [
      "Braking distance (d) for v0 = 120 km/h and mu = 0.3 is188.77 meters.\n",
      "Braking distance (d) for v0 = 50 km/h and mu = 0.3 is32.77 meters.\n"
     ]
    }
   ],
   "source": [
    "def distance(v0, mu):\n",
    "    v0_mps = v0 * 1000 / 3600\n",
    "    g = 9.81\n",
    "    d = 0.5 * v0_mps**2 / (mu * g)\n",
    "    return d\n",
    "v0_1 = 120\n",
    "mu_1 = 0.3\n",
    "d_1 = distance(v0_1, mu_1)\n",
    "print(f\"Braking distance (d) for v0 = {v0_1} km/h and mu = {mu_1} is{d_1:.2f} meters.\")\n",
    "v0_2 = 50\n",
    "mu_2 = 0.3\n",
    "d_2 = distance(v0_2, mu_2)\n",
    "print(f\"Braking distance (d) for v0 = {v0_2} km/h and mu = {mu_2} is{d_2:.2f} meters.\")"
   ]
  },
  {
   "cell_type": "code",
   "execution_count": 10,
   "metadata": {},
   "outputs": [
    {
     "name": "stdout",
     "output_type": "stream",
     "text": [
      "Deposited 50000 in the account. Current balance:450000\n",
      "Interest earned: 31500.00\n",
      "Withdrawn 100000 from the account. Current balance: 700000\n",
      "Interest earned: 56000.00\n"
     ]
    }
   ],
   "source": [
    "class Bank:\n",
    "    def __init__(self, name, accountNum, accountType, amount):\n",
    "        self.name = name\n",
    "        self.accountNum = accountNum\n",
    "        self.accountType = accountType\n",
    "        self.amount = amount\n",
    "        self.interest = 0\n",
    "    def deposit(self, amount):\n",
    "        self.amount += amount\n",
    "        print(f\"Deposited {amount} in the account. Current balance:{self.amount}\")\n",
    "    def withdrawal(self, amount):\n",
    "        if self.amount >= amount:\n",
    "            self.amount -= amount\n",
    "            print(f\"Withdrawn {amount} from the account. Current balance: {self.amount}\")\n",
    "        else:\n",
    "            print(\"Insufficient balance. Withdrawal not allowed.\")\n",
    "    def findInterest(self):\n",
    "        if self.amount >= 500000:\n",
    "            self.interest = self.amount * 0.08\n",
    "        elif 300000 <= self.amount < 500000:\n",
    "            self.interest = self.amount * 0.07\n",
    "        elif 100000 <= self.amount < 300000:\n",
    "            self.interest = self.amount * 0.05\n",
    "        else:\n",
    "            self.interest = self.amount * 0.03\n",
    "        print(f\"Interest earned: {self.interest:.2f}\")\n",
    "customer1 = Bank(\"abc\", \"1111111111\", \"Savings\", 400000)\n",
    "customer2 = Bank(\"xyz\", \"2222222222\", \"Current\", 800000)\n",
    "customer1.deposit(50000)\n",
    "customer1.findInterest()\n",
    "customer2.withdrawal(100000)\n",
    "customer2.findInterest()"
   ]
  }
 ],
 "metadata": {
  "kernelspec": {
   "display_name": "Python 3.8.5 32-bit",
   "language": "python",
   "name": "python3"
  },
  "language_info": {
   "codemirror_mode": {
    "name": "ipython",
    "version": 3
   },
   "file_extension": ".py",
   "mimetype": "text/x-python",
   "name": "python",
   "nbconvert_exporter": "python",
   "pygments_lexer": "ipython3",
   "version": "3.8.5"
  },
  "orig_nbformat": 4,
  "vscode": {
   "interpreter": {
    "hash": "9650cb4e16cdd4a8e8e2d128bf38d875813998db22a3c986335f89e0cb4d7bb2"
   }
  }
 },
 "nbformat": 4,
 "nbformat_minor": 2
}
